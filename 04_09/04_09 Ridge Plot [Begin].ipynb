{
 "cells": [
  {
   "cell_type": "markdown",
   "metadata": {},
   "source": [
    "# Credit Card Retention Analysis"
   ]
  },
  {
   "cell_type": "markdown",
   "metadata": {},
   "source": [
    "## Imports"
   ]
  },
  {
   "cell_type": "code",
   "execution_count": 1,
   "metadata": {},
   "outputs": [],
   "source": [
    "import pandas as pd\n",
    "import matplotlib.pyplot as plt\n",
    "import seaborn as sns\n",
    "import numpy as np\n",
    "import plotly.graph_objs as go\n",
    "from plotly.offline import iplot\n",
    "sns.set()\n",
    "pd.options.display.max_columns = 999"
   ]
  },
  {
   "cell_type": "code",
   "execution_count": 2,
   "metadata": {},
   "outputs": [],
   "source": [
    "data = pd.read_csv('../data/BankChurners_v2.csv')"
   ]
  },
  {
   "cell_type": "code",
   "execution_count": 3,
   "metadata": {},
   "outputs": [],
   "source": [
    "data = data[['CLIENTNUM', 'Attrition_Flag', 'Customer_Age', 'Gender',\n",
    "       'Dependent_count', 'Education_Level', 'Marital_Status',\n",
    "       'Income_Category', 'Card_Category', 'Months_on_book',\n",
    "       'Total_Relationship_Count', 'Months_Inactive_12_mon',\n",
    "       'Contacts_Count_12_mon', 'Credit_Limit', 'Total_Revolving_Bal',\n",
    "       'Avg_Open_To_Buy', 'Total_Amt_Chng_Q4_Q1', 'Total_Trans_Amt',\n",
    "       'Total_Trans_Ct', 'Total_Ct_Chng_Q4_Q1', 'Avg_Utilization_Ratio',]]"
   ]
  },
  {
   "cell_type": "code",
   "execution_count": 4,
   "metadata": {},
   "outputs": [],
   "source": [
    "data['Education_Level'] = data['Education_Level'].fillna('Unknown')\n",
    "data['Marital_Status'] = data['Marital_Status'].fillna('Unknown')\n",
    "data['Income_Category'] = data['Income_Category'].fillna('Unknown')"
   ]
  },
  {
   "cell_type": "markdown",
   "metadata": {},
   "source": [
    "***"
   ]
  },
  {
   "cell_type": "markdown",
   "metadata": {},
   "source": [
    "## Ridge Plot"
   ]
  },
  {
   "cell_type": "code",
   "execution_count": 5,
   "metadata": {},
   "outputs": [],
   "source": [
    "bins = [0, 11000, 900000]\n",
    "labels = [\"Group 1\", \"Group 2\"]\n",
    "data['Total_Trans_Amt_bin'] = pd.cut(data['Total_Trans_Amt'], bins = bins, labels = labels, include_lowest=True, right=False)\n"
   ]
  },
  {
   "cell_type": "code",
   "execution_count": 6,
   "metadata": {},
   "outputs": [
    {
     "data": {
      "text/html": [
       "<div>\n",
       "<style scoped>\n",
       "    .dataframe tbody tr th:only-of-type {\n",
       "        vertical-align: middle;\n",
       "    }\n",
       "\n",
       "    .dataframe tbody tr th {\n",
       "        vertical-align: top;\n",
       "    }\n",
       "\n",
       "    .dataframe thead tr th {\n",
       "        text-align: left;\n",
       "    }\n",
       "</style>\n",
       "<table border=\"1\" class=\"dataframe\">\n",
       "  <thead>\n",
       "    <tr>\n",
       "      <th>Total_Trans_Amt_bin</th>\n",
       "      <th colspan=\"2\" halign=\"left\">Group 1</th>\n",
       "      <th colspan=\"2\" halign=\"left\">Group 2</th>\n",
       "    </tr>\n",
       "    <tr>\n",
       "      <th>Attrition_Flag</th>\n",
       "      <th>Attrited Customer</th>\n",
       "      <th>Existing Customer</th>\n",
       "      <th>Attrited Customer</th>\n",
       "      <th>Existing Customer</th>\n",
       "    </tr>\n",
       "  </thead>\n",
       "  <tbody>\n",
       "    <tr>\n",
       "      <th>CLIENTNUM</th>\n",
       "      <td>1627.000000</td>\n",
       "      <td>7753.000000</td>\n",
       "      <td>0.0</td>\n",
       "      <td>747.000000</td>\n",
       "    </tr>\n",
       "    <tr>\n",
       "      <th>Customer_Age</th>\n",
       "      <td>46.659496</td>\n",
       "      <td>46.373920</td>\n",
       "      <td>NaN</td>\n",
       "      <td>45.101740</td>\n",
       "    </tr>\n",
       "    <tr>\n",
       "      <th>Dependent_count</th>\n",
       "      <td>2.402581</td>\n",
       "      <td>2.341545</td>\n",
       "      <td>NaN</td>\n",
       "      <td>2.271754</td>\n",
       "    </tr>\n",
       "    <tr>\n",
       "      <th>Months_on_book</th>\n",
       "      <td>36.178242</td>\n",
       "      <td>35.964272</td>\n",
       "      <td>NaN</td>\n",
       "      <td>35.012048</td>\n",
       "    </tr>\n",
       "    <tr>\n",
       "      <th>Total_Relationship_Count</th>\n",
       "      <td>3.279656</td>\n",
       "      <td>4.064620</td>\n",
       "      <td>NaN</td>\n",
       "      <td>2.357430</td>\n",
       "    </tr>\n",
       "    <tr>\n",
       "      <th>Months_Inactive_12_mon</th>\n",
       "      <td>2.693301</td>\n",
       "      <td>2.279376</td>\n",
       "      <td>NaN</td>\n",
       "      <td>2.215529</td>\n",
       "    </tr>\n",
       "    <tr>\n",
       "      <th>Contacts_Count_12_mon</th>\n",
       "      <td>2.972342</td>\n",
       "      <td>2.369018</td>\n",
       "      <td>NaN</td>\n",
       "      <td>2.224900</td>\n",
       "    </tr>\n",
       "    <tr>\n",
       "      <th>Credit_Limit</th>\n",
       "      <td>8136.039459</td>\n",
       "      <td>8213.629808</td>\n",
       "      <td>NaN</td>\n",
       "      <td>14053.797858</td>\n",
       "    </tr>\n",
       "    <tr>\n",
       "      <th>Total_Revolving_Bal</th>\n",
       "      <td>672.822987</td>\n",
       "      <td>1245.908165</td>\n",
       "      <td>NaN</td>\n",
       "      <td>1367.615797</td>\n",
       "    </tr>\n",
       "    <tr>\n",
       "      <th>Avg_Open_To_Buy</th>\n",
       "      <td>7463.216472</td>\n",
       "      <td>6967.721643</td>\n",
       "      <td>NaN</td>\n",
       "      <td>12686.182062</td>\n",
       "    </tr>\n",
       "    <tr>\n",
       "      <th>Total_Amt_Chng_Q4_Q1</th>\n",
       "      <td>0.694277</td>\n",
       "      <td>0.772248</td>\n",
       "      <td>NaN</td>\n",
       "      <td>0.775229</td>\n",
       "    </tr>\n",
       "    <tr>\n",
       "      <th>Total_Trans_Amt</th>\n",
       "      <td>3095.025814</td>\n",
       "      <td>3686.943506</td>\n",
       "      <td>NaN</td>\n",
       "      <td>14698.396252</td>\n",
       "    </tr>\n",
       "    <tr>\n",
       "      <th>Total_Trans_Ct</th>\n",
       "      <td>44.933620</td>\n",
       "      <td>64.658326</td>\n",
       "      <td>NaN</td>\n",
       "      <td>110.336011</td>\n",
       "    </tr>\n",
       "    <tr>\n",
       "      <th>Total_Ct_Chng_Q4_Q1</th>\n",
       "      <td>0.554386</td>\n",
       "      <td>0.741687</td>\n",
       "      <td>NaN</td>\n",
       "      <td>0.750190</td>\n",
       "    </tr>\n",
       "    <tr>\n",
       "      <th>Avg_Utilization_Ratio</th>\n",
       "      <td>0.162475</td>\n",
       "      <td>0.307600</td>\n",
       "      <td>NaN</td>\n",
       "      <td>0.180288</td>\n",
       "    </tr>\n",
       "  </tbody>\n",
       "</table>\n",
       "</div>"
      ],
      "text/plain": [
       "Total_Trans_Amt_bin                Group 1                    \\\n",
       "Attrition_Flag           Attrited Customer Existing Customer   \n",
       "CLIENTNUM                      1627.000000       7753.000000   \n",
       "Customer_Age                     46.659496         46.373920   \n",
       "Dependent_count                   2.402581          2.341545   \n",
       "Months_on_book                   36.178242         35.964272   \n",
       "Total_Relationship_Count          3.279656          4.064620   \n",
       "Months_Inactive_12_mon            2.693301          2.279376   \n",
       "Contacts_Count_12_mon             2.972342          2.369018   \n",
       "Credit_Limit                   8136.039459       8213.629808   \n",
       "Total_Revolving_Bal             672.822987       1245.908165   \n",
       "Avg_Open_To_Buy                7463.216472       6967.721643   \n",
       "Total_Amt_Chng_Q4_Q1              0.694277          0.772248   \n",
       "Total_Trans_Amt                3095.025814       3686.943506   \n",
       "Total_Trans_Ct                   44.933620         64.658326   \n",
       "Total_Ct_Chng_Q4_Q1               0.554386          0.741687   \n",
       "Avg_Utilization_Ratio             0.162475          0.307600   \n",
       "\n",
       "Total_Trans_Amt_bin                Group 2                    \n",
       "Attrition_Flag           Attrited Customer Existing Customer  \n",
       "CLIENTNUM                              0.0        747.000000  \n",
       "Customer_Age                           NaN         45.101740  \n",
       "Dependent_count                        NaN          2.271754  \n",
       "Months_on_book                         NaN         35.012048  \n",
       "Total_Relationship_Count               NaN          2.357430  \n",
       "Months_Inactive_12_mon                 NaN          2.215529  \n",
       "Contacts_Count_12_mon                  NaN          2.224900  \n",
       "Credit_Limit                           NaN      14053.797858  \n",
       "Total_Revolving_Bal                    NaN       1367.615797  \n",
       "Avg_Open_To_Buy                        NaN      12686.182062  \n",
       "Total_Amt_Chng_Q4_Q1                   NaN          0.775229  \n",
       "Total_Trans_Amt                        NaN      14698.396252  \n",
       "Total_Trans_Ct                         NaN        110.336011  \n",
       "Total_Ct_Chng_Q4_Q1                    NaN          0.750190  \n",
       "Avg_Utilization_Ratio                  NaN          0.180288  "
      ]
     },
     "execution_count": 6,
     "metadata": {},
     "output_type": "execute_result"
    }
   ],
   "source": [
    "data.groupby(['Total_Trans_Amt_bin', 'Attrition_Flag']).agg({\n",
    "                                      'CLIENTNUM':'nunique',\n",
    "                                      'Customer_Age':'mean',\n",
    "                                      'Dependent_count':'mean',\n",
    "                                      'Months_on_book':'mean',\n",
    "                                      'Total_Relationship_Count':'mean',\n",
    "                                      'Months_Inactive_12_mon':'mean',\n",
    "                                      'Contacts_Count_12_mon':'mean',\n",
    "                                      'Credit_Limit':'mean',\n",
    "                                      'Total_Revolving_Bal':'mean',\n",
    "                                      'Avg_Open_To_Buy':'mean',\n",
    "                                      'Total_Amt_Chng_Q4_Q1':'mean',\n",
    "                                      'Total_Trans_Amt':'mean',\n",
    "                                      'Total_Trans_Ct':'mean',\n",
    "                                      'Total_Ct_Chng_Q4_Q1':'mean',\n",
    "                                      'Avg_Utilization_Ratio':'mean'\n",
    "                                      }).T #.T transposes table by default"
   ]
  },
  {
   "cell_type": "markdown",
   "metadata": {},
   "source": [
    "Earlier, we had highlighted the following variables that showed differences between Churned and Existing customers:\n",
    "\n",
    "    1) Total_Revolving_Bal (still a good indicator)\n",
    "    2) Avg_Utilization_Ratio (not good anymore, since attrited and existing have similar values)\n",
    "    3) Total_Trans_Ct (still a good indicator)\n",
    "    4) Total_Trans_Amt (not good anymore, since attrited and existing have similar values)"
   ]
  },
  {
   "cell_type": "markdown",
   "metadata": {},
   "source": [
    "More about KDE plots, see [here](https://seaborn.pydata.org/generated/seaborn.kdeplot.html) and [here](https://seaborn.pydata.org/tutorial/distributions.html#tutorial-kde)."
   ]
  },
  {
   "cell_type": "code",
   "execution_count": 8,
   "metadata": {},
   "outputs": [
    {
     "data": {
      "text/plain": [
       "(0.0, 2.0)"
      ]
     },
     "execution_count": 8,
     "metadata": {},
     "output_type": "execute_result"
    },
    {
     "data": {
      "image/png": "[encoded data removed]",
      "text/plain": [
       "<Figure size 1080x432 with 2 Axes>"
      ]
     },
     "metadata": {},
     "output_type": "display_data"
    }
   ],
   "source": [
    "g = sns.FacetGrid(data, row='Attrition_Flag', aspect=5, height=3)\n",
    "g.map_dataframe(sns.kdeplot, x=\"Total_Ct_Chng_Q4_Q1\")\n",
    "\n",
    "plt.xlim(0,2)"
   ]
  },
  {
   "cell_type": "code",
   "execution_count": null,
   "id": "1f3ea008",
   "metadata": {},
   "outputs": [],
   "source": []
  }
 ],
 "metadata": {
  "kernelspec": {
   "display_name": "Python 3",
   "language": "python",
   "name": "python3"
  },
  "language_info": {
   "codemirror_mode": {
    "name": "ipython",
    "version": 3
   },
   "file_extension": ".py",
   "mimetype": "text/x-python",
   "name": "python",
   "nbconvert_exporter": "python",
   "pygments_lexer": "ipython3",
   "version": "3.9.4"
  }
 },
 "nbformat": 4,
 "nbformat_minor": 5
}
